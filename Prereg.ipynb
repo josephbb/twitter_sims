{
 "cells": [
  {
   "cell_type": "code",
   "execution_count": 294,
   "id": "96ef9c0e-863e-47c6-beed-7d9e5c31579b",
   "metadata": {},
   "outputs": [],
   "source": [
    "import numpy as np\n",
    "import matplotlib.pyplot as plt\n",
    "import seaborn as sns\n",
    "import scipy.stats as stats\n",
    "import pandas as pd\n",
    "%matplotlib inline\n",
    "import statsmodels.api as sm\n",
    "import random"
   ]
  },
  {
   "cell_type": "code",
   "execution_count": 295,
   "id": "ffcc40b3-cf58-403e-b150-54a7e7ea261c",
   "metadata": {},
   "outputs": [],
   "source": [
    "def run_f(fit):\n",
    "    A = np.identity(len(fit.params))\n",
    "    A = A[1:,:]\n",
    "    return fit.f_test(A).pvalue"
   ]
  },
  {
   "cell_type": "code",
   "execution_count": 272,
   "id": "af7f99cc-0cf3-474c-902e-793c88bca8b0",
   "metadata": {
    "tags": []
   },
   "outputs": [],
   "source": [
    "def log_transform(outcome, predictors):\n",
    "    model_log = sm.regression.linear_model.OLS(np.log(outcome),predictors)\n",
    "    fit_log= model_log.fit()\n",
    "    if any(fit_log.pvalues <.05):\n",
    "        return True, 'log_y'\n",
    "\n",
    "    else:\n",
    "        return False, False\n",
    "\n",
    "    \n",
    "    \n",
    "def add_dummy(outcome, predictors):\n",
    "    model_dummy = sm.regression.linear_model.OLS(outcome,\n",
    "                                                 np.vstack([dummy,\n",
    "                                                            predictors[:,0], \n",
    "                                                            predictors[:,1], \n",
    "                                                            predictors[:,2]]).T)\n",
    "    fit_dummy= model_dummy.fit()\n",
    "    if any(fit_dummy.pvalues[1:] < .05) & (run_f(fit_dummy) < .05):\n",
    "        return True, 'Dummy'\n",
    "\n",
    "    else:\n",
    "        return False, False\n",
    "\n",
    "def interactions_1(outcome, predictors):\n",
    "        #Check for a first interaction\n",
    "    add_interaction = sm.regression.linear_model.OLS(outcome,\n",
    "                                                 np.vstack([predictors[:,0]*predictors[:,1],\n",
    "                                                            predictors[:,0], \n",
    "                                                            predictors[:,1], \n",
    "                                                            predictors[:,2]]).T)\n",
    "    fit_interaction= add_interaction.fit()\n",
    "    if any(fit_interaction.pvalues< .05) & (run_f(fit_interaction) < .05):\n",
    "        return True, 'Interaction'\n",
    "    else:\n",
    "        return False,False\n",
    "\n",
    "def interactions_2(outcome,predictors):\n",
    "\n",
    "    #Check for a second interaction\n",
    "    add_interaction = sm.regression.linear_model.OLS(outcome,\n",
    "                                                 np.vstack([predictors[:,1]*predictors[:,2],\n",
    "                                                            predictors[:,0], \n",
    "                                                            predictors[:,1], \n",
    "                                                            predictors[:,2]]).T)\n",
    "    fit_interaction= add_interaction.fit()\n",
    "    if any(fit_interaction.pvalues< .05) & (run_f(fit_interaction) < .05):\n",
    "        return True, 'Interaction'\n",
    "    else:\n",
    "        return False,False\n",
    "    \n",
    "def interactions_3(outcome, predictors):\n",
    "\n",
    "    #Check for a third interaction\n",
    "    add_interaction = sm.regression.linear_model.OLS(outcome,\n",
    "                                                 np.vstack([predictors[:,0]*predictors[:,2],\n",
    "                                                            predictors[:,0], \n",
    "                                                            predictors[:,1], \n",
    "                                                            predictors[:,2]]).T)\n",
    "    fit_interaction= add_interaction.fit()\n",
    "    if any(fit_interaction.pvalues< .05) & (run_f(fit_interaction) < .05):\n",
    "        return True, 'Interaction'\n",
    "\n",
    "    else:\n",
    "        return False, False\n",
    "\n",
    "def outlier_removal(outcome, predictors):\n",
    "    outliers = np.where(sm.regression.linear_model.OLSResults.outlier_test(fit)<.05)\n",
    "    predictors_or = np.delete(predictors, outliers,axis=0)\n",
    "\n",
    "    outcome_or = np.delete(outcome, outliers,axis=0)\n",
    "    model_or = sm.regression.linear_model.OLS(outcome_or,predictors_or)\n",
    "    fit_or= model_or.fit()\n",
    "\n",
    "\n",
    "    if any(fit_or.pvalues < .05) & (run_f(fit_or) < .05):\n",
    "        return True, 'Outliers Removed'\n",
    "    else:\n",
    "        return False,False\n",
    "    \n",
    "def directional_test(outcome, predictors):\n",
    "    model = sm.regression.linear_model.OLS(outcome,predictors)\n",
    "    fit= model.fit()\n",
    "    if any(fit.pvalues < .1) & (run_f(fit) < .05):\n",
    "        return True, 'Base'\n",
    "    else:\n",
    "        return False,False\n",
    "    \n",
    "def marginally_significant(outcome, predictors):\n",
    "    model = sm.regression.linear_model.OLS(outcome,predictors)\n",
    "    fit= model.fit()\n",
    "    if any(fit.pvalues < .1) & (run_f(fit) < .1):\n",
    "        return True, 'Base'\n",
    "    else:\n",
    "        return False, False"
   ]
  },
  {
   "cell_type": "code",
   "execution_count": 273,
   "id": "e3a4104e-a3e6-46dc-a1d5-55e41b30eb2c",
   "metadata": {},
   "outputs": [],
   "source": [
    "def analysis(adjust=False):\n",
    "    N = 1000\n",
    "    outcome = np.random.gamma(5,1,N)\n",
    "    predictors = np.random.normal(0,1,size=(N,3))\n",
    "    dummy = np.random.binomial(1,.5,N)\n",
    "    model = sm.regression.linear_model.OLS(outcome,predictors)\n",
    "    fit= model.fit()\n",
    "    \n",
    "    \n",
    "    \n",
    "    if any(fit.pvalues < .05) & (run_f(fit) < .05):\n",
    "        return True, 'Base', 0\n",
    "    \n",
    "    if adjust:\n",
    "        attempts = [outlier_removal, \n",
    "                   interactions_1,\n",
    "                   interactions_2,\n",
    "                   interactions_3,\n",
    "                   add_dummy,\n",
    "                   log_transform,\n",
    "                   directional_test,\n",
    "                   marginally_significant]\n",
    "        random.shuffle(attempts)\n",
    "        count = 0\n",
    "        for item in attempts:\n",
    "            output = item(outcome,predictors)\n",
    "            count+=1\n",
    "            if output[0]:\n",
    "                return output[0], output[1], count\n",
    "    \n",
    "\n",
    "    \n",
    "    \n",
    "    return False, 'None', 0"
   ]
  },
  {
   "cell_type": "code",
   "execution_count": 298,
   "id": "21f2e5d6-418a-46ac-a2b5-21008f2e45dd",
   "metadata": {},
   "outputs": [],
   "source": [
    "processes = []\n",
    "tries = []\n",
    "sigs = []\n",
    "\n",
    "for idx in range(5000):\n",
    "    sig, process,count = analysis()\n",
    "    if sig:\n",
    "        false_pos += 1\n",
    "        \n",
    "    processes.append(other)\n",
    "    sigs.append(sig)\n",
    "    tries.append(count)\n",
    "\n",
    "np.mean(sigs)\n",
    "control_df = pd.DataFrame({'Significant':sigs, \n",
    "              'tries':tries,\n",
    "               'procces':processes})"
   ]
  },
  {
   "cell_type": "code",
   "execution_count": 299,
   "id": "a8d44588-0d91-4943-b91e-3fb2df04eb26",
   "metadata": {},
   "outputs": [
    {
     "name": "stdout",
     "output_type": "stream",
     "text": [
      "0.0484\n"
     ]
    },
    {
     "data": {
      "text/html": [
       "<div>\n",
       "<style scoped>\n",
       "    .dataframe tbody tr th:only-of-type {\n",
       "        vertical-align: middle;\n",
       "    }\n",
       "\n",
       "    .dataframe tbody tr th {\n",
       "        vertical-align: top;\n",
       "    }\n",
       "\n",
       "    .dataframe thead th {\n",
       "        text-align: right;\n",
       "    }\n",
       "</style>\n",
       "<table border=\"1\" class=\"dataframe\">\n",
       "  <thead>\n",
       "    <tr style=\"text-align: right;\">\n",
       "      <th></th>\n",
       "      <th>Significant</th>\n",
       "      <th>tries</th>\n",
       "      <th>procces</th>\n",
       "    </tr>\n",
       "  </thead>\n",
       "  <tbody>\n",
       "    <tr>\n",
       "      <th>0</th>\n",
       "      <td>True</td>\n",
       "      <td>0</td>\n",
       "      <td>None</td>\n",
       "    </tr>\n",
       "    <tr>\n",
       "      <th>1</th>\n",
       "      <td>False</td>\n",
       "      <td>0</td>\n",
       "      <td>None</td>\n",
       "    </tr>\n",
       "    <tr>\n",
       "      <th>2</th>\n",
       "      <td>False</td>\n",
       "      <td>0</td>\n",
       "      <td>None</td>\n",
       "    </tr>\n",
       "    <tr>\n",
       "      <th>3</th>\n",
       "      <td>True</td>\n",
       "      <td>0</td>\n",
       "      <td>None</td>\n",
       "    </tr>\n",
       "    <tr>\n",
       "      <th>4</th>\n",
       "      <td>False</td>\n",
       "      <td>0</td>\n",
       "      <td>None</td>\n",
       "    </tr>\n",
       "  </tbody>\n",
       "</table>\n",
       "</div>"
      ],
      "text/plain": [
       "   Significant  tries procces\n",
       "0         True      0    None\n",
       "1        False      0    None\n",
       "2        False      0    None\n",
       "3         True      0    None\n",
       "4        False      0    None"
      ]
     },
     "execution_count": 299,
     "metadata": {},
     "output_type": "execute_result"
    }
   ],
   "source": [
    "print(np.mean(control_df['Significant']))\n",
    "control_df.head()"
   ]
  },
  {
   "cell_type": "code",
   "execution_count": 289,
   "id": "f1d7c5a0-4daf-4b7a-8de2-a78c5ebbd4e5",
   "metadata": {},
   "outputs": [],
   "source": [
    "processes = []\n",
    "tries = []\n",
    "sigs = []\n",
    "\n",
    "for idx in range(5000):\n",
    "    sig, process,count = analysis(adjust=True)\n",
    "    if sig:\n",
    "        false_pos += 1\n",
    "        \n",
    "    processes.append(other)\n",
    "    sigs.append(sig)\n",
    "    tries.append(count)\n",
    "\n",
    "np.mean(sigs)\n",
    "break_prereg_df = pd.DataFrame({'Significant':sigs, \n",
    "              'tries':tries,\n",
    "               'procces':processes})"
   ]
  },
  {
   "cell_type": "code",
   "execution_count": 290,
   "id": "ae6648bc-a807-4bf2-917f-f7ece3f8b682",
   "metadata": {},
   "outputs": [
    {
     "name": "stdout",
     "output_type": "stream",
     "text": [
      "0.1826\n"
     ]
    },
    {
     "data": {
      "text/html": [
       "<div>\n",
       "<style scoped>\n",
       "    .dataframe tbody tr th:only-of-type {\n",
       "        vertical-align: middle;\n",
       "    }\n",
       "\n",
       "    .dataframe tbody tr th {\n",
       "        vertical-align: top;\n",
       "    }\n",
       "\n",
       "    .dataframe thead th {\n",
       "        text-align: right;\n",
       "    }\n",
       "</style>\n",
       "<table border=\"1\" class=\"dataframe\">\n",
       "  <thead>\n",
       "    <tr style=\"text-align: right;\">\n",
       "      <th></th>\n",
       "      <th>Significant</th>\n",
       "      <th>tries</th>\n",
       "      <th>procces</th>\n",
       "    </tr>\n",
       "  </thead>\n",
       "  <tbody>\n",
       "    <tr>\n",
       "      <th>0</th>\n",
       "      <td>False</td>\n",
       "      <td>0</td>\n",
       "      <td>None</td>\n",
       "    </tr>\n",
       "    <tr>\n",
       "      <th>1</th>\n",
       "      <td>False</td>\n",
       "      <td>0</td>\n",
       "      <td>None</td>\n",
       "    </tr>\n",
       "    <tr>\n",
       "      <th>2</th>\n",
       "      <td>True</td>\n",
       "      <td>0</td>\n",
       "      <td>None</td>\n",
       "    </tr>\n",
       "    <tr>\n",
       "      <th>3</th>\n",
       "      <td>False</td>\n",
       "      <td>0</td>\n",
       "      <td>None</td>\n",
       "    </tr>\n",
       "    <tr>\n",
       "      <th>4</th>\n",
       "      <td>False</td>\n",
       "      <td>0</td>\n",
       "      <td>None</td>\n",
       "    </tr>\n",
       "  </tbody>\n",
       "</table>\n",
       "</div>"
      ],
      "text/plain": [
       "   Significant  tries procces\n",
       "0        False      0    None\n",
       "1        False      0    None\n",
       "2         True      0    None\n",
       "3        False      0    None\n",
       "4        False      0    None"
      ]
     },
     "execution_count": 290,
     "metadata": {},
     "output_type": "execute_result"
    }
   ],
   "source": [
    "print(np.mean(break_prereg_df['Significant']))\n",
    "break_prereg_df.head()\n"
   ]
  },
  {
   "cell_type": "code",
   "execution_count": 390,
   "id": "adb20236-59d8-4338-98a7-e0e29669ad5f",
   "metadata": {},
   "outputs": [
    {
     "data": {
      "text/plain": [
       "0.10783671687404497"
      ]
     },
     "execution_count": 390,
     "metadata": {},
     "output_type": "execute_result"
    }
   ],
   "source": [
    "np.mean(break_prereg_df[break_prereg_df['tries']<3]['Significant'])"
   ]
  },
  {
   "cell_type": "code",
   "execution_count": 391,
   "id": "99db6df4-98ae-42dd-985b-bf145c2b9c92",
   "metadata": {},
   "outputs": [
    {
     "data": {
      "text/plain": [
       "0.08568232662192393"
      ]
     },
     "execution_count": 391,
     "metadata": {},
     "output_type": "execute_result"
    }
   ],
   "source": [
    "np.mean(break_prereg_df[break_prereg_df['tries']<2]['Significant'])"
   ]
  },
  {
   "cell_type": "code",
   "execution_count": 374,
   "id": "8d9358fe-2a53-478b-a309-d90246c89887",
   "metadata": {},
   "outputs": [
    {
     "name": "stderr",
     "output_type": "stream",
     "text": [
      "/opt/conda/lib/python3.7/site-packages/seaborn/_decorators.py:43: FutureWarning: Pass the following variable as a keyword arg: x. From version 0.12, the only valid positional argument will be `data`, and passing other arguments without an explicit keyword will result in an error or misinterpretation.\n",
      "  FutureWarning\n"
     ]
    },
    {
     "data": {
      "image/png": "[encoded data removed]",
      "text/plain": [
       "<Figure size 432x288 with 1 Axes>"
      ]
     },
     "metadata": {
      "needs_background": "light"
     },
     "output_type": "display_data"
    }
   ],
   "source": [
    "sns.countplot(break_prereg_df[break_prereg_df['Significant']]['tries'],color='grey')\n",
    "plt.xlabel('Attempted Models')\n",
    "plt.xlim(0.5,8.5)\n",
    "plt.ylim(0,150)\n",
    "plt.tight_layout()\n",
    "plt.savefig('./for_twitter.png')"
   ]
  },
  {
   "cell_type": "code",
   "execution_count": 372,
   "id": "081dbbc4-7034-469c-b2ed-1908290ab43f",
   "metadata": {},
   "outputs": [
    {
     "data": {
      "image/png": "[encoded data removed]",
      "text/plain": [
       "<Figure size 432x288 with 1 Axes>"
      ]
     },
     "metadata": {
      "needs_background": "light"
     },
     "output_type": "display_data"
    }
   ],
   "source": [
    "x=np.logspace(0,2,1000)\n",
    "\n",
    "x_prereg = lambda x: ((1-x) * .85)/((1-x) * .85 + (x*.05))\n",
    "x_violate = lambda x: ((1-x) * .85)/((1-x) * .85 + (x*.2))\n",
    "\n",
    "plt.plot(x/(x+1), x_prereg(x/(x+1)),label='Pre-reg')\n",
    "plt.plot(x/(x+1), x_violate(x/(x+1)),label='Deviate')\n",
    "\n",
    "\n",
    "plt.xlabel('Prior probability $H_a$')\n",
    "plt.ylabel('Posteior probability $H_a$')\n",
    "plt.legend()\n",
    "plt.xlim(0.5,np.max(x/(x+1)))\n",
    "plt.ylim(0,1)\n",
    "plt.tight_layout()\n",
    "plt.savefig('./for_twitter2.png')"
   ]
  },
  {
   "cell_type": "code",
   "execution_count": null,
   "id": "8cb0827a-577a-416e-bb8b-96faae9cc644",
   "metadata": {},
   "outputs": [],
   "source": []
  }
 ],
 "metadata": {
  "kernelspec": {
   "display_name": "Python 3",
   "language": "python",
   "name": "python3"
  },
  "language_info": {
   "codemirror_mode": {
    "name": "ipython",
    "version": 3
   },
   "file_extension": ".py",
   "mimetype": "text/x-python",
   "name": "python",
   "nbconvert_exporter": "python",
   "pygments_lexer": "ipython3",
   "version": "3.7.10"
  }
 },
 "nbformat": 4,
 "nbformat_minor": 5
}
